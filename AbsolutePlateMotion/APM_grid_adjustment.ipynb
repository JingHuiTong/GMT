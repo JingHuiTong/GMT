{
 "cells": [
  {
   "cell_type": "code",
   "execution_count": 17,
   "id": "adjustable-deposit",
   "metadata": {},
   "outputs": [],
   "source": [
    "import pandas as pd\n",
    "import numpy as np"
   ]
  },
  {
   "cell_type": "code",
   "execution_count": 35,
   "id": "8b1b9999-272a-45aa-aaae-1eefd20170ee",
   "metadata": {},
   "outputs": [],
   "source": [
    "want_grid = 0.5\n",
    "frame = 'SA'"
   ]
  },
  {
   "cell_type": "code",
   "execution_count": 36,
   "id": "handed-leeds",
   "metadata": {},
   "outputs": [],
   "source": [
    "Efile = pd.read_csv(f'GPSdata/local_{frame}_E.xyz',sep='\\s+',header=0,names=['lon','lat','vel'])\n",
    "Nfile = pd.read_csv(f'GPSdata/local_{frame}_N.xyz',sep='\\s+',header=0,names=['lon','lat','vel'])"
   ]
  },
  {
   "cell_type": "code",
   "execution_count": 38,
   "id": "amber-macro",
   "metadata": {},
   "outputs": [],
   "source": [
    "Lat = Efile['lat'].astype('float')\n",
    "Lon = Efile['lon'].astype('float')\n",
    "\n",
    "NewLat=[]\n",
    "NewLon=[]\n",
    "NewEvel=[]\n",
    "NewNvel=[]\n",
    "for i,ddd in enumerate(zip(Lat,Lon)):\n",
    "    lat=ddd[0]; lon=ddd[1]\n",
    "    \n",
    "    if np.mod(lat,want_grid) == 0 and np.mod(lon,want_grid) == 0 :\n",
    "        NewLat.append(lat)\n",
    "        NewLon.append(lon)\n",
    "        \n",
    "        NewEvel.append(Efile['vel'][i])\n",
    "        NewNvel.append(Nfile['vel'][i])\n",
    "#         print(lat,lon)"
   ]
  },
  {
   "cell_type": "code",
   "execution_count": 39,
   "id": "recorded-provider",
   "metadata": {},
   "outputs": [],
   "source": [
    "newdf = pd.DataFrame({'lon': NewLon,\n",
    "                    'lat': NewLat,\n",
    "                    'Evel': NewEvel,\n",
    "                    'Nvel': NewNvel})"
   ]
  },
  {
   "cell_type": "code",
   "execution_count": 40,
   "id": "unnecessary-default",
   "metadata": {},
   "outputs": [
    {
     "data": {
      "text/plain": [
       "0       30.5\n",
       "1       31.0\n",
       "2       31.5\n",
       "3       32.0\n",
       "4       32.5\n",
       "        ... \n",
       "2251    58.0\n",
       "2252    58.5\n",
       "2253    59.0\n",
       "2254    59.5\n",
       "2255    60.0\n",
       "Name: lon, Length: 2256, dtype: float64"
      ]
     },
     "execution_count": 40,
     "metadata": {},
     "output_type": "execute_result"
    }
   ],
   "source": [
    "newdf['lon']"
   ]
  },
  {
   "cell_type": "code",
   "execution_count": 41,
   "id": "constant-realtor",
   "metadata": {},
   "outputs": [],
   "source": [
    "newdf.to_csv(f'GPSdata/local_{frame}_ENvel_{want_grid}grid.xyz',sep=' ',header=None,index=False)"
   ]
  },
  {
   "cell_type": "markdown",
   "id": "tested-taylor",
   "metadata": {},
   "source": [
    "# average "
   ]
  },
  {
   "cell_type": "code",
   "execution_count": 16,
   "id": "civil-schema",
   "metadata": {},
   "outputs": [],
   "source": [
    "minlat=35;maxlat=41\n",
    "minlon=30;maxlon=36"
   ]
  },
  {
   "cell_type": "code",
   "execution_count": 17,
   "id": "rolled-manner",
   "metadata": {},
   "outputs": [
    {
     "name": "stdout",
     "output_type": "stream",
     "text": [
      "1.0739998200296936\n"
     ]
    }
   ],
   "source": [
    "import numpy as np\n",
    "Lat = Efile['lat'].astype('float')\n",
    "Lon = Efile['lon'].astype('float') \n",
    "VEL=[]\n",
    "for i,ddd in enumerate(zip(Lat,Lon)):\n",
    "    lat= ddd[0]; lon= ddd[1]\n",
    "    if maxlat >=lat >= minlat:\n",
    "        if  maxlon >=lon >= minlon  :\n",
    "#             print(Efile['vel'][i],Nfile['vel'][i])\n",
    "            vel = np.sqrt(Efile['vel'][i]**2 + Nfile['vel'][i]**2)\n",
    "            VEL.append(vel)\n",
    "#             print(vel)\n",
    "avg_vel=np.mean(VEL)\n",
    "print(avg_vel)"
   ]
  },
  {
   "cell_type": "code",
   "execution_count": 46,
   "id": "established-terrorist",
   "metadata": {},
   "outputs": [
    {
     "data": {
      "text/plain": [
       "0       30.25\n",
       "1       30.50\n",
       "2       30.75\n",
       "3       31.00\n",
       "4       31.25\n",
       "        ...  \n",
       "8827    59.00\n",
       "8828    59.25\n",
       "8829    59.50\n",
       "8830    59.75\n",
       "8831    60.00\n",
       "Name: lon, Length: 8832, dtype: float64"
      ]
     },
     "execution_count": 46,
     "metadata": {},
     "output_type": "execute_result"
    }
   ],
   "source": [
    "Lon"
   ]
  },
  {
   "cell_type": "code",
   "execution_count": null,
   "id": "burning-antarctica",
   "metadata": {},
   "outputs": [],
   "source": []
  }
 ],
 "metadata": {
  "kernelspec": {
   "display_name": "Python 3",
   "language": "python",
   "name": "python3"
  },
  "language_info": {
   "codemirror_mode": {
    "name": "ipython",
    "version": 3
   },
   "file_extension": ".py",
   "mimetype": "text/x-python",
   "name": "python",
   "nbconvert_exporter": "python",
   "pygments_lexer": "ipython3",
   "version": "3.8.8"
  }
 },
 "nbformat": 4,
 "nbformat_minor": 5
}
