{
 "cells": [
  {
   "cell_type": "code",
   "execution_count": 4,
   "id": "0845f9fb-622c-465e-bd32-0788e5a29fc4",
   "metadata": {},
   "outputs": [],
   "source": [
    "import netCDF4 as nc\n",
    "import pandas as pd\n",
    "import numpy as np\n",
    "import pygmt\n",
    "import glob,os\n",
    "import matplotlib.pyplot as plt"
   ]
  },
  {
   "cell_type": "code",
   "execution_count": 13,
   "id": "ef08e0bf-129a-41f9-a975-36d4b960e6a6",
   "metadata": {},
   "outputs": [],
   "source": [
    "minlon = 35\n",
    "maxlon = 50\n",
    "minlat = 35\n",
    "maxlat = 50\n",
    "specify_dep = 50"
   ]
  },
  {
   "cell_type": "code",
   "execution_count": 6,
   "id": "4ce3eabb-f858-4bae-9403-be745996f0a5",
   "metadata": {
    "tags": []
   },
   "outputs": [],
   "source": [
    "filepath = '/Volumes/home/Research/DataBase/08_GlobalSV_vel_ani/3D2018-08Sv-depth.nc'\n",
    "df = nc.Dataset(filepath)"
   ]
  },
  {
   "cell_type": "code",
   "execution_count": 9,
   "id": "3112479d-c70e-401f-bb6e-ccce28c634db",
   "metadata": {},
   "outputs": [],
   "source": [
    "lat = df.variables['latitude'][:]\n",
    "lon = df.variables['longitude'][:]\n",
    "dVs = df.variables['dvs'][:]\n",
    "dep = df.variables['depth'][:]\n",
    "Ani = df.variables['az'][:]\n",
    "Ans = df.variables['as'][:]"
   ]
  },
  {
   "cell_type": "code",
   "execution_count": 18,
   "id": "16d8a38b-dfb3-476b-8ad2-1f94412c1957",
   "metadata": {},
   "outputs": [],
   "source": [
    "zoomlat=np.where((lat<=maxlat) & (lat>=minlat))\n",
    "zoomlon=np.where((lon<=maxlon) & (lon>=minlon))"
   ]
  },
  {
   "cell_type": "code",
   "execution_count": 16,
   "id": "2de298a4-c82c-4ae9-bdf5-69c658b9b4de",
   "metadata": {},
   "outputs": [],
   "source": [
    "DEP=np.where(dep == specify_dep)[0][0]"
   ]
  },
  {
   "cell_type": "code",
   "execution_count": 28,
   "id": "7fac4a5b-14e3-4283-a4cc-f42569a3b2be",
   "metadata": {},
   "outputs": [
    {
     "name": "stdout",
     "output_type": "stream",
     "text": [
      "-----------------------------\n"
     ]
    },
    {
     "ename": "KeyError",
     "evalue": "'lat[i]'",
     "output_type": "error",
     "traceback": [
      "\u001b[0;31m---------------------------------------------------------------------------\u001b[0m",
      "\u001b[0;31mKeyError\u001b[0m                                  Traceback (most recent call last)",
      "\u001b[0;32m/var/folders/sp/pnngww1n0q31w2plgbk53rc00000gn/T/ipykernel_94207/3746196863.py\u001b[0m in \u001b[0;36m<module>\u001b[0;34m\u001b[0m\n\u001b[1;32m      5\u001b[0m         \u001b[0mPHI\u001b[0m\u001b[0;34m=\u001b[0m \u001b[0mAni\u001b[0m\u001b[0;34m[\u001b[0m\u001b[0mDEP\u001b[0m\u001b[0;34m,\u001b[0m\u001b[0mi\u001b[0m\u001b[0;34m,\u001b[0m\u001b[0mj\u001b[0m\u001b[0;34m]\u001b[0m\u001b[0;34m\u001b[0m\u001b[0;34m\u001b[0m\u001b[0m\n\u001b[1;32m      6\u001b[0m         \u001b[0mSTENGTH\u001b[0m \u001b[0;34m=\u001b[0m \u001b[0mAns\u001b[0m\u001b[0;34m[\u001b[0m\u001b[0mDEP\u001b[0m\u001b[0;34m,\u001b[0m\u001b[0mi\u001b[0m\u001b[0;34m,\u001b[0m\u001b[0mj\u001b[0m\u001b[0;34m]\u001b[0m\u001b[0;34m\u001b[0m\u001b[0;34m\u001b[0m\u001b[0m\n\u001b[0;32m----> 7\u001b[0;31m         cmd = '''\n\u001b[0m\u001b[1;32m      8\u001b[0m         \u001b[0mecho\u001b[0m \u001b[0;34m%\u001b[0m\u001b[0;34m(\u001b[0m\u001b[0mlat\u001b[0m\u001b[0;34m[\u001b[0m\u001b[0mi\u001b[0m\u001b[0;34m]\u001b[0m\u001b[0;34m)\u001b[0m\u001b[0mf\u001b[0m\u001b[0;34m,\u001b[0m\u001b[0;34m%\u001b[0m\u001b[0;34m(\u001b[0m\u001b[0mlon\u001b[0m\u001b[0;34m[\u001b[0m\u001b[0mj\u001b[0m\u001b[0;34m]\u001b[0m\u001b[0;34m)\u001b[0m\u001b[0mf\u001b[0m\u001b[0;34m,\u001b[0m \u001b[0;34m%\u001b[0m\u001b[0;34m(\u001b[0m\u001b[0mPHI\u001b[0m\u001b[0;34m)\u001b[0m\u001b[0mf\u001b[0m\u001b[0;34m,\u001b[0m \u001b[0;34m%\u001b[0m\u001b[0;34m(\u001b[0m\u001b[0mSTENGTH\u001b[0m\u001b[0;34m)\u001b[0m\u001b[0mf\u001b[0m \u001b[0;34m>>\u001b[0m \u001b[0mAnisotropy_\u001b[0m\u001b[0;34m%\u001b[0m\u001b[0;34m(\u001b[0m\u001b[0mspecify_dep\u001b[0m\u001b[0;34m)\u001b[0m\u001b[0ms\u001b[0m\u001b[0;34m\u001b[0m\u001b[0;34m\u001b[0m\u001b[0m\n\u001b[1;32m      9\u001b[0m         ''' %locals() \n",
      "\u001b[0;31mKeyError\u001b[0m: 'lat[i]'"
     ]
    }
   ],
   "source": [
    "for i in zoomlat[0]:\n",
    "    for j in zoomlon[0]:\n",
    "        print('-----------------------------')\n",
    "        LAT = lat[i]\n",
    "        LON = lon[j]\n",
    "        PHI= Ani[DEP,i,j]\n",
    "        STENGTH = Ans[DEP,i,j]\n",
    "        cmd = '''\n",
    "        echo %(LAT)f,%(LON)f, %(PHI)f, %(STENGTH)f >> Anisotropy_%(specify_dep)s \n",
    "        ''' %locals() \n",
    "        os.system(cmd)"
   ]
  },
  {
   "cell_type": "code",
   "execution_count": null,
   "id": "9e602778-a108-4c51-8df9-928fef0daa4c",
   "metadata": {},
   "outputs": [],
   "source": []
  }
 ],
 "metadata": {
  "kernelspec": {
   "display_name": "Python 3 (ipykernel)",
   "language": "python",
   "name": "python3"
  },
  "language_info": {
   "codemirror_mode": {
    "name": "ipython",
    "version": 3
   },
   "file_extension": ".py",
   "mimetype": "text/x-python",
   "name": "python",
   "nbconvert_exporter": "python",
   "pygments_lexer": "ipython3",
   "version": "3.9.6"
  }
 },
 "nbformat": 4,
 "nbformat_minor": 5
}
