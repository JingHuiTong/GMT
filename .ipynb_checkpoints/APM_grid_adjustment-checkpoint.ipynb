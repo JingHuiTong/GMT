{
 "cells": [
  {
   "cell_type": "code",
   "execution_count": 1,
   "id": "adjustable-deposit",
   "metadata": {},
   "outputs": [],
   "source": [
    "import pandas as pd"
   ]
  },
  {
   "cell_type": "code",
   "execution_count": 2,
   "id": "handed-leeds",
   "metadata": {},
   "outputs": [],
   "source": [
    "Efile = pd.read_csv('local_NNR_E.xyz',sep='\\s+',header=0,names=['lat','lon','vel'])\n",
    "Nfile = pd.read_csv('local_NNR_N.xyz',sep='\\s+',header=0,names=['lat','lon','vel'])"
   ]
  },
  {
   "cell_type": "code",
   "execution_count": 33,
   "id": "floppy-education",
   "metadata": {},
   "outputs": [],
   "source": [
    "Lat = Efile['lat'].astype('float')\n",
    "Lon = Nfile['lon'].astype('float')\n",
    "\n",
    "NewLat=[]\n",
    "NewLon=[]\n",
    "NewEvel=[]\n",
    "NewNvel=[]\n",
    "i=0\n",
    "for lat,lon in zip(Lat,Lon):\n",
    "    if lat % 1 == 0 and lon % 1 == 0 :\n",
    "        NewLat.append(lat)\n",
    "        NewLon.append(lon)\n",
    "        NewEvel.append(Efile['vel'][i])\n",
    "        NewNvel.append(Nfile['vel'][i])\n",
    "#         print(lat,lon)\n",
    "    i+=1"
   ]
  },
  {
   "cell_type": "code",
   "execution_count": 34,
   "id": "recorded-provider",
   "metadata": {},
   "outputs": [],
   "source": [
    "newdf = pd.DataFrame({'lat': NewLat,\n",
    "                    'lon': NewLon,\n",
    "                    'Evel': NewEvel,\n",
    "                    'Nvel': NewNvel})"
   ]
  },
  {
   "cell_type": "code",
   "execution_count": 35,
   "id": "constant-realtor",
   "metadata": {},
   "outputs": [],
   "source": [
    "newdf.to_csv('local_NNR_ENvel_0.5grid.xyz',sep=' ',header=None,index=False)"
   ]
  },
  {
   "cell_type": "code",
   "execution_count": 31,
   "id": "proof-wilderness",
   "metadata": {},
   "outputs": [
    {
     "data": {
      "text/plain": [
       "2256"
      ]
     },
     "execution_count": 31,
     "metadata": {},
     "output_type": "execute_result"
    }
   ],
   "source": []
  },
  {
   "cell_type": "code",
   "execution_count": null,
   "id": "civil-schema",
   "metadata": {},
   "outputs": [],
   "source": []
  }
 ],
 "metadata": {
  "kernelspec": {
   "display_name": "Python 3",
   "language": "python",
   "name": "python3"
  },
  "language_info": {
   "codemirror_mode": {
    "name": "ipython",
    "version": 3
   },
   "file_extension": ".py",
   "mimetype": "text/x-python",
   "name": "python",
   "nbconvert_exporter": "python",
   "pygments_lexer": "ipython3",
   "version": "3.8.8"
  }
 },
 "nbformat": 4,
 "nbformat_minor": 5
}
