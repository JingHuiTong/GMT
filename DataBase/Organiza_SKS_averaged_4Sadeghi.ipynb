{
 "cells": [
  {
   "cell_type": "code",
   "execution_count": 10,
   "id": "talented-gabriel",
   "metadata": {},
   "outputs": [],
   "source": [
    "import pandas as pd\n",
    "import numpy as np\n",
    "from scipy.stats import circmean"
   ]
  },
  {
   "cell_type": "code",
   "execution_count": 11,
   "id": "linear-glance",
   "metadata": {},
   "outputs": [],
   "source": [
    "def organizaSTA(station):\n",
    "    STAlist=[]\n",
    "    for i,sta in enumerate(station):\n",
    "        if i ==0: \n",
    "            STAlist.append(sta)\n",
    "            temp_STA=sta\n",
    "        elif temp_STA!=sta:\n",
    "            STAlist.append(sta)\n",
    "            temp_STA=sta\n",
    "    return STAlist"
   ]
  },
  {
   "cell_type": "code",
   "execution_count": 27,
   "id": "innovative-synthetic",
   "metadata": {},
   "outputs": [],
   "source": [
    "DIR='/Users/tong/Documents/Master/Map_2021/DataBase'\n",
    "file=f'{DIR}/Sadeghi-Bagherabadi_etal_linearIran.csv'\n",
    "df=pd.read_csv(file)"
   ]
  },
  {
   "cell_type": "code",
   "execution_count": 28,
   "id": "legislative-walker",
   "metadata": {},
   "outputs": [],
   "source": [
    "station=df['Station Name']\n",
    "STAlist=organizaSTA(station)\n"
   ]
  },
  {
   "cell_type": "code",
   "execution_count": 29,
   "id": "academic-effect",
   "metadata": {},
   "outputs": [
    {
     "name": "stdout",
     "output_type": "stream",
     "text": [
      "E01\n",
      "E02\n",
      "E03\n",
      "E04\n",
      "E05\n",
      "E06\n",
      "E07\n",
      "E08\n",
      "E09\n",
      "M01\n",
      "M02\n",
      "M03\n",
      "M04\n",
      "M05\n",
      "M06\n",
      "M07\n",
      "M08\n",
      "M09\n",
      "M10\n",
      "M11\n",
      "M12\n",
      "M13\n",
      "M14\n",
      "M15\n",
      "M16\n",
      "M17\n",
      "M18\n",
      "M19\n",
      "M20\n",
      "M21\n",
      "M22\n",
      "M23\n",
      "M24\n",
      "M25\n",
      "M26\n",
      "M27\n",
      "M28\n",
      "M29\n",
      "M30\n",
      "M31\n",
      "M32\n",
      "M33\n",
      "M34\n",
      "M35\n",
      "M36\n",
      "M37\n",
      "M38\n",
      "M40\n",
      "M41\n",
      "M42\n",
      "M43\n",
      "M44\n",
      "M45\n",
      "M46\n",
      "W01\n",
      "W02\n",
      "W03\n",
      "W04\n",
      "W05\n",
      "W06\n",
      "W07\n",
      "W08\n"
     ]
    }
   ],
   "source": [
    "STAlonlist=[];STAlatlist=[];phimeanlist=[];dtmeanlist=[]\n",
    "for STA in STAlist:\n",
    "    print(STA)\n",
    "    stlon=df['Station Longitude'][df['Station Name']==STA].values[0]\n",
    "    stlat=df['Station Latitude'][df['Station Name']==STA].values[0]\n",
    "    phi=(df['Fast Axis Orientation'][df['Station Name']==STA][df['Is Null?'] == 'No']).tolist();\n",
    "    dt=(df['Delay Time'][df['Station Name']==STA][df['Is Null?'] == 'No']).tolist();\n",
    "    phi=list(map(float, phi))\n",
    "    dt=list(map(float, dt))\n",
    "    phi_mean=np.mean(phi)\n",
    "    dt_mean=np.mean(dt)\n",
    "    STAlonlist.append(stlon)\n",
    "    STAlatlist.append(stlat)\n",
    "    phimeanlist.append(phi_mean)\n",
    "    dtmeanlist.append(dt_mean)\n",
    "\n",
    "newdf=pd.DataFrame({'Station': STAlist,\n",
    "                   'Sta_Lat':STAlatlist,\n",
    "                   'Sta_Lon':STAlonlist,\n",
    "                   'Phi':phimeanlist,\n",
    "                   'dt':dtmeanlist})\n",
    "newdf.to_csv(f'{DIR}/Sadeghi-Bagherabadi_etal_linearIran_averaged.csv',index=False)"
   ]
  },
  {
   "cell_type": "code",
   "execution_count": 26,
   "id": "chemical-singing",
   "metadata": {},
   "outputs": [
    {
     "data": {
      "text/plain": [
       "[10.44508505, -8.600266768]"
      ]
     },
     "execution_count": 26,
     "metadata": {},
     "output_type": "execute_result"
    }
   ],
   "source": [
    "phi"
   ]
  },
  {
   "cell_type": "code",
   "execution_count": 17,
   "id": "proprietary-royalty",
   "metadata": {},
   "outputs": [
    {
     "data": {
      "text/plain": [
       "1.16"
      ]
     },
     "execution_count": 17,
     "metadata": {},
     "output_type": "execute_result"
    }
   ],
   "source": [
    "(0.88+2.12+1.14+0.5)/4"
   ]
  },
  {
   "cell_type": "code",
   "execution_count": null,
   "id": "trained-validity",
   "metadata": {},
   "outputs": [],
   "source": []
  }
 ],
 "metadata": {
  "kernelspec": {
   "display_name": "Python 3",
   "language": "python",
   "name": "python3"
  },
  "language_info": {
   "codemirror_mode": {
    "name": "ipython",
    "version": 3
   },
   "file_extension": ".py",
   "mimetype": "text/x-python",
   "name": "python",
   "nbconvert_exporter": "python",
   "pygments_lexer": "ipython3",
   "version": "3.8.8"
  }
 },
 "nbformat": 4,
 "nbformat_minor": 5
}
